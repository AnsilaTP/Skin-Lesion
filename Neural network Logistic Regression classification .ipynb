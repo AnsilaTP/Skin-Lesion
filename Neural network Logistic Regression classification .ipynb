{
 "cells": [
  {
   "cell_type": "code",
   "execution_count": 1,
   "id": "e6875242",
   "metadata": {},
   "outputs": [
    {
     "name": "stdout",
     "output_type": "stream",
     "text": [
      "Accuracy: 0.7988017973040439\n",
      "              precision    recall  f1-score   support\n",
      "\n",
      "       akiec       0.55      0.52      0.54        61\n",
      "         bcc       0.75      0.69      0.72       107\n",
      "         bkl       0.58      0.50      0.54       224\n",
      "          df       0.75      0.16      0.26        19\n",
      "         mel       0.56      0.48      0.52       211\n",
      "          nv       0.87      0.93      0.90      1355\n",
      "        vasc       0.94      0.62      0.74        26\n",
      "\n",
      "    accuracy                           0.80      2003\n",
      "   macro avg       0.71      0.56      0.60      2003\n",
      "weighted avg       0.79      0.80      0.79      2003\n",
      "\n",
      "Confusion Matrix:\n",
      "[[  32    6   12    1    2    8    0]\n",
      " [   4   74    8    0    5   16    0]\n",
      " [  12    8  113    0   21   70    0]\n",
      " [   1    0    3    3    1   11    0]\n",
      " [   4    6   24    0  102   74    1]\n",
      " [   5    4   36    0   50 1260    0]\n",
      " [   0    1    0    0    2    7   16]]\n"
     ]
    }
   ],
   "source": [
    "import pandas as pd\n",
    "import numpy as np\n",
    "from sklearn.linear_model import LogisticRegression\n",
    "from sklearn.metrics import accuracy_score, classification_report, confusion_matrix\n",
    "\n",
    "# Load the metadata into a Pandas dataframe\n",
    "metadata = pd.read_csv('HAM10000_metadata.csv')\n",
    "\n",
    "# Split the data into training and testing sets\n",
    "train_metadata = metadata.sample(frac=0.8, random_state=42)\n",
    "test_metadata = metadata.drop(train_metadata.index)\n",
    "\n",
    "# Load pre-extracted features from disk\n",
    "mobilenetv2_train_features = np.load('Mobilenetv2_train_features.npy')\n",
    "mobilenetv2_test_features = np.load('Mobilenetv2_test_features.npy')\n",
    "\n",
    "# Reshape the feature arrays\n",
    "n_train_samples, train_height, train_width, train_channels = mobilenetv2_train_features.shape\n",
    "n_test_samples, test_height, test_width, test_channels = mobilenetv2_test_features.shape\n",
    "mobilenetv2_train_features = np.reshape(mobilenetv2_train_features, (n_train_samples, train_height * train_width * train_channels))\n",
    "mobilenetv2_test_features = np.reshape(mobilenetv2_test_features, (n_test_samples, test_height * test_width * test_channels))\n",
    "\n",
    "# Define the logistic regression classifier\n",
    "clf = LogisticRegression(random_state=42, max_iter=1000)\n",
    "\n",
    "# Train the classifier on the training set\n",
    "clf.fit(mobilenetv2_train_features, train_metadata['dx'])\n",
    "\n",
    "# Test the classifier on the testing set\n",
    "predictions = clf.predict(mobilenetv2_test_features)\n",
    "accuracy = accuracy_score(test_metadata['dx'], predictions)\n",
    "print('Accuracy:', accuracy)\n",
    "print(classification_report(test_metadata['dx'], predictions))\n",
    "conf_mat = confusion_matrix(test_metadata['dx'], predictions)\n",
    "print('Confusion Matrix:')\n",
    "print(conf_mat)\n"
   ]
  },
  {
   "cell_type": "code",
   "execution_count": null,
   "id": "37d4d5b4",
   "metadata": {},
   "outputs": [],
   "source": []
  }
 ],
 "metadata": {
  "kernelspec": {
   "display_name": "Python 3 (ipykernel)",
   "language": "python",
   "name": "python3"
  },
  "language_info": {
   "codemirror_mode": {
    "name": "ipython",
    "version": 3
   },
   "file_extension": ".py",
   "mimetype": "text/x-python",
   "name": "python",
   "nbconvert_exporter": "python",
   "pygments_lexer": "ipython3",
   "version": "3.10.9"
  }
 },
 "nbformat": 4,
 "nbformat_minor": 5
}
